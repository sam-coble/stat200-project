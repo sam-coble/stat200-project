{
 "cells": [
  {
   "cell_type": "markdown",
   "id": "f3a3ad15-dc94-430f-8ae9-442d89eaedc3",
   "metadata": {},
   "source": [
    "# Introduction"
   ]
  },
  {
   "cell_type": "markdown",
   "id": "7008fed2-7751-4c84-aa29-fb92ff937106",
   "metadata": {},
   "source": []
  },
  {
   "cell_type": "markdown",
   "id": "4fc70c05-8995-416e-ae1d-d514db6d267d",
   "metadata": {},
   "source": [
    "# Preliminary Results"
   ]
  },
  {
   "cell_type": "markdown",
   "id": "f5f7f1fd-cff7-456f-b51f-18070af366ef",
   "metadata": {},
   "source": [
    "### Importing and Wrangling"
   ]
  },
  {
   "cell_type": "code",
   "execution_count": 1,
   "id": "1259580e-5685-4a6a-98cf-ec060ce1263a",
   "metadata": {},
   "outputs": [
    {
     "name": "stderr",
     "output_type": "stream",
     "text": [
      "── \u001b[1mAttaching packages\u001b[22m ─────────────────────────────────────── tidyverse 1.3.2 ──\n",
      "\u001b[32m✔\u001b[39m \u001b[34mggplot2\u001b[39m 3.3.6      \u001b[32m✔\u001b[39m \u001b[34mpurrr  \u001b[39m 0.3.4 \n",
      "\u001b[32m✔\u001b[39m \u001b[34mtibble \u001b[39m 3.1.8      \u001b[32m✔\u001b[39m \u001b[34mdplyr  \u001b[39m 1.0.10\n",
      "\u001b[32m✔\u001b[39m \u001b[34mtidyr  \u001b[39m 1.2.1      \u001b[32m✔\u001b[39m \u001b[34mstringr\u001b[39m 1.4.1 \n",
      "\u001b[32m✔\u001b[39m \u001b[34mreadr  \u001b[39m 2.1.2      \u001b[32m✔\u001b[39m \u001b[34mforcats\u001b[39m 0.5.2 \n",
      "── \u001b[1mConflicts\u001b[22m ────────────────────────────────────────── tidyverse_conflicts() ──\n",
      "\u001b[31m✖\u001b[39m \u001b[34mdplyr\u001b[39m::\u001b[32mfilter()\u001b[39m masks \u001b[34mstats\u001b[39m::filter()\n",
      "\u001b[31m✖\u001b[39m \u001b[34mdplyr\u001b[39m::\u001b[32mlag()\u001b[39m    masks \u001b[34mstats\u001b[39m::lag()\n"
     ]
    }
   ],
   "source": [
    "library(tidyverse)"
   ]
  },
  {
   "cell_type": "code",
   "execution_count": 21,
   "id": "91a2632d-7475-41fe-a24c-e1e10f8778da",
   "metadata": {},
   "outputs": [
    {
     "name": "stderr",
     "output_type": "stream",
     "text": [
      "\u001b[1mRows: \u001b[22m\u001b[34m8036\u001b[39m \u001b[1mColumns: \u001b[22m\u001b[34m31\u001b[39m\n",
      "\u001b[36m──\u001b[39m \u001b[1mColumn specification\u001b[22m \u001b[36m────────────────────────────────────────────────────────\u001b[39m\n",
      "\u001b[1mDelimiter:\u001b[22m \",\"\n",
      "\u001b[31mchr\u001b[39m  (14): Station Name, Month, Day, Max Temp Flag, Min Temp Flag, Mean Temp...\n",
      "\u001b[32mdbl\u001b[39m  (13): Longitude (x), Latitude (y), Climate ID, Year, Max Temp (°C), Min...\n",
      "\u001b[33mlgl\u001b[39m   (3): Data Quality, Dir of Max Gust (10s deg), Spd of Max Gust (km/h)\n",
      "\u001b[34mdate\u001b[39m  (1): Date/Time\n",
      "\n",
      "\u001b[36mℹ\u001b[39m Use `spec()` to retrieve the full column specification for this data.\n",
      "\u001b[36mℹ\u001b[39m Specify the column types or set `show_col_types = FALSE` to quiet this message.\n"
     ]
    },
    {
     "data": {
      "text/html": [
       "<table class=\"dataframe\">\n",
       "<caption>A tibble: 6 × 3</caption>\n",
       "<thead>\n",
       "\t<tr><th scope=col>max</th><th scope=col>min</th><th scope=col>mean</th></tr>\n",
       "\t<tr><th scope=col>&lt;dbl&gt;</th><th scope=col>&lt;dbl&gt;</th><th scope=col>&lt;dbl&gt;</th></tr>\n",
       "</thead>\n",
       "<tbody>\n",
       "\t<tr><td>3.3</td><td>0.6</td><td>2.0</td></tr>\n",
       "\t<tr><td>7.2</td><td>1.1</td><td>4.2</td></tr>\n",
       "\t<tr><td>6.7</td><td>5.0</td><td>5.9</td></tr>\n",
       "\t<tr><td>6.7</td><td>2.2</td><td>4.5</td></tr>\n",
       "\t<tr><td>4.4</td><td>1.1</td><td>2.8</td></tr>\n",
       "\t<tr><td>5.6</td><td>3.3</td><td>4.5</td></tr>\n",
       "</tbody>\n",
       "</table>\n"
      ],
      "text/latex": [
       "A tibble: 6 × 3\n",
       "\\begin{tabular}{lll}\n",
       " max & min & mean\\\\\n",
       " <dbl> & <dbl> & <dbl>\\\\\n",
       "\\hline\n",
       "\t 3.3 & 0.6 & 2.0\\\\\n",
       "\t 7.2 & 1.1 & 4.2\\\\\n",
       "\t 6.7 & 5.0 & 5.9\\\\\n",
       "\t 6.7 & 2.2 & 4.5\\\\\n",
       "\t 4.4 & 1.1 & 2.8\\\\\n",
       "\t 5.6 & 3.3 & 4.5\\\\\n",
       "\\end{tabular}\n"
      ],
      "text/markdown": [
       "\n",
       "A tibble: 6 × 3\n",
       "\n",
       "| max &lt;dbl&gt; | min &lt;dbl&gt; | mean &lt;dbl&gt; |\n",
       "|---|---|---|\n",
       "| 3.3 | 0.6 | 2.0 |\n",
       "| 7.2 | 1.1 | 4.2 |\n",
       "| 6.7 | 5.0 | 5.9 |\n",
       "| 6.7 | 2.2 | 4.5 |\n",
       "| 4.4 | 1.1 | 2.8 |\n",
       "| 5.6 | 3.3 | 4.5 |\n",
       "\n"
      ],
      "text/plain": [
       "  max min mean\n",
       "1 3.3 0.6 2.0 \n",
       "2 7.2 1.1 4.2 \n",
       "3 6.7 5.0 5.9 \n",
       "4 6.7 2.2 4.5 \n",
       "5 4.4 1.1 2.8 \n",
       "6 5.6 3.3 4.5 "
      ]
     },
     "metadata": {},
     "output_type": "display_data"
    },
    {
     "data": {
      "text/html": [
       "<table class=\"dataframe\">\n",
       "<caption>A tibble: 6 × 3</caption>\n",
       "<thead>\n",
       "\t<tr><th scope=col>max</th><th scope=col>min</th><th scope=col>mean</th></tr>\n",
       "\t<tr><th scope=col>&lt;dbl&gt;</th><th scope=col>&lt;dbl&gt;</th><th scope=col>&lt;dbl&gt;</th></tr>\n",
       "</thead>\n",
       "<tbody>\n",
       "\t<tr><td> 7.3</td><td>3.5</td><td>5.4</td></tr>\n",
       "\t<tr><td> 9.5</td><td>2.8</td><td>6.2</td></tr>\n",
       "\t<tr><td> 8.9</td><td>7.2</td><td>8.1</td></tr>\n",
       "\t<tr><td>11.3</td><td>8.2</td><td>9.8</td></tr>\n",
       "\t<tr><td> 8.9</td><td>5.8</td><td>7.4</td></tr>\n",
       "\t<tr><td> 5.9</td><td>4.0</td><td>5.0</td></tr>\n",
       "</tbody>\n",
       "</table>\n"
      ],
      "text/latex": [
       "A tibble: 6 × 3\n",
       "\\begin{tabular}{lll}\n",
       " max & min & mean\\\\\n",
       " <dbl> & <dbl> & <dbl>\\\\\n",
       "\\hline\n",
       "\t  7.3 & 3.5 & 5.4\\\\\n",
       "\t  9.5 & 2.8 & 6.2\\\\\n",
       "\t  8.9 & 7.2 & 8.1\\\\\n",
       "\t 11.3 & 8.2 & 9.8\\\\\n",
       "\t  8.9 & 5.8 & 7.4\\\\\n",
       "\t  5.9 & 4.0 & 5.0\\\\\n",
       "\\end{tabular}\n"
      ],
      "text/markdown": [
       "\n",
       "A tibble: 6 × 3\n",
       "\n",
       "| max &lt;dbl&gt; | min &lt;dbl&gt; | mean &lt;dbl&gt; |\n",
       "|---|---|---|\n",
       "|  7.3 | 3.5 | 5.4 |\n",
       "|  9.5 | 2.8 | 6.2 |\n",
       "|  8.9 | 7.2 | 8.1 |\n",
       "| 11.3 | 8.2 | 9.8 |\n",
       "|  8.9 | 5.8 | 7.4 |\n",
       "|  5.9 | 4.0 | 5.0 |\n",
       "\n"
      ],
      "text/plain": [
       "  max  min mean\n",
       "1  7.3 3.5 5.4 \n",
       "2  9.5 2.8 6.2 \n",
       "3  8.9 7.2 8.1 \n",
       "4 11.3 8.2 9.8 \n",
       "5  8.9 5.8 7.4 \n",
       "6  5.9 4.0 5.0 "
      ]
     },
     "metadata": {},
     "output_type": "display_data"
    }
   ],
   "source": [
    "# load data from online\n",
    "data <- read_csv(\"https://raw.githubusercontent.com/sam-coble/stat200-project/main/vancouver_harbour_weather.csv\") |>\n",
    "    select(\"Year\", \"Max Temp (°C)\", \"Min Temp (°C)\", \"Mean Temp (°C)\")\n",
    "# Rename columns\n",
    "colnames(data) <- c(\"yr\", \"max\", \"min\", \"mean\")\n",
    "\n",
    "# Seperate data into two groups\n",
    "old_temps <- data |>\n",
    "    filter(!is.na(max) & !is.na(min) & !is.na(mean)) |>\n",
    "    filter(yr < 1987) |>\n",
    "    select(!yr)\n",
    "new_temps <- data |>\n",
    "    filter(!is.na(max) & !is.na(min) & !is.na(mean)) |>\n",
    "    filter(yr > 2011) |>\n",
    "    select(!yr)\n",
    "\n",
    "head(old_temps)\n",
    "head(new_temps)"
   ]
  },
  {
   "cell_type": "markdown",
   "id": "270c5249-d5ae-44fa-bdee-544baf87827b",
   "metadata": {},
   "source": [
    "### Plots and Tables"
   ]
  },
  {
   "cell_type": "code",
   "execution_count": null,
   "id": "2439bb92-70fe-4754-aa21-8f46dd4621e5",
   "metadata": {},
   "outputs": [],
   "source": [
    "# Plots of the two distributions"
   ]
  },
  {
   "cell_type": "code",
   "execution_count": 22,
   "id": "1abab0b2-7cb9-4c9f-9a09-1f68e0404d2b",
   "metadata": {},
   "outputs": [],
   "source": [
    "# Parameters of interest"
   ]
  },
  {
   "cell_type": "markdown",
   "id": "67660289-f4a0-428e-be30-a5a10d1b7895",
   "metadata": {},
   "source": [
    "# Methods: Plan"
   ]
  },
  {
   "cell_type": "markdown",
   "id": "639ea2ee-639c-41d0-8722-ad9991ef11ec",
   "metadata": {},
   "source": []
  },
  {
   "cell_type": "markdown",
   "id": "9e50de4b-fe77-4b23-b9a6-a57408511085",
   "metadata": {},
   "source": [
    "# References"
   ]
  },
  {
   "cell_type": "markdown",
   "id": "27098653-f0c6-495b-973a-997a93902d43",
   "metadata": {},
   "source": [
    "### Dataset:"
   ]
  },
  {
   "cell_type": "markdown",
   "id": "e209c65e-8cea-4e63-9170-199f44e55357",
   "metadata": {},
   "source": [
    "https://climate.weather.gc.ca/climate_data/hourly_data_e.html?hlyRange=1976-01-20%7C2023-03-07&dlyRange=1925-11-01%7C2023-03-07&mlyRange=1925-01-01%7C2007-02-01&StationID=888&Prov=BC&urlExtension=_e.html&searchType=stnName&optLimit=yearRange&StartYear=1840&EndYear=2023&selRowPerPage=25&Line=0&searchMethod=contains&Month=3&Day=7&txtStationName=Vancouver+Harbour&timeframe=1&Year=2023"
   ]
  },
  {
   "cell_type": "code",
   "execution_count": null,
   "id": "0140e0ce-1da7-4aed-8f0c-e547c201dc25",
   "metadata": {},
   "outputs": [],
   "source": []
  }
 ],
 "metadata": {
  "kernelspec": {
   "display_name": "R",
   "language": "R",
   "name": "ir"
  },
  "language_info": {
   "codemirror_mode": "r",
   "file_extension": ".r",
   "mimetype": "text/x-r-source",
   "name": "R",
   "pygments_lexer": "r",
   "version": "4.1.3"
  }
 },
 "nbformat": 4,
 "nbformat_minor": 5
}
